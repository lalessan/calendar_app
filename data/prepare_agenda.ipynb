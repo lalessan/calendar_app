{
 "cells": [
  {
   "cell_type": "code",
   "execution_count": 1,
   "id": "187c5303",
   "metadata": {},
   "outputs": [],
   "source": [
    "import pandas as pd\n",
    "import json\n"
   ]
  },
  {
   "cell_type": "code",
   "execution_count": 2,
   "id": "611036f1",
   "metadata": {},
   "outputs": [],
   "source": [
    "df_papers = pd.read_csv(\"./df_papers_final.csv\")\n",
    "df_posters = pd.read_csv(\"./df_posters_final.csv\")\n",
    "df_plenary = pd.read_csv(\"./df_plenary_final.csv\")\n",
    "df_keynotes = pd.read_csv(\"./df_keynotes.csv\")\n",
    "df_other = pd.read_csv(\"./df_other.csv\")\n",
    "\n",
    "\n",
    "df_posters[\"session_id\"] = df_posters[\"day\"].apply(lambda x:\"PT\"+str(x))\n",
    "df_posters[\"session_name\"] = df_posters[\"day\"].apply(lambda x:\"Poster session \"+str(x))\n",
    "df_posters[\"room\"] = \"Atrium\"\n",
    "df_posters[\"time\"] = \"\"\n",
    "df_posters[\"type\"] = \"poster\"\n",
    "df_plenary[\"type\"] = \"plenary\"\n",
    "df_papers[\"type\"] = \"parallel\"\n",
    "df_keynotes[\"type\"] = \"keynote\"\n",
    "df_other[\"type\"] = \"other\"\n",
    "\n",
    "df_papers = df_papers[[\"session_id\",\"session_name\",\"authors\",\"time\",\"submission_id\",\"presenter_name\",\"title\",\"type\"]].copy()\n",
    "df_plenary = df_plenary[[\"session_id\",\"session_name\",\"authors\",\"time\",\"submission_id\",\"presenter_name\",\"title\",\"type\"]].copy()\n",
    "df_posters = df_posters[[\"session_id\",\"session_name\",\"authors\",\"time\",\"submission_id\",\"presenter_name\",\"title\",\"type\"]].copy()\n",
    "df_keynotes = df_keynotes[[\"session_id\",\"session_name\",\"time\",\"presenter_name\",\"title\",\"type\",\"abstract\",\"Bio\"]].copy()\n",
    "df_other = df_other[[\"session_id\",\"session_name\",\"time\",\"presenter_name\",\"title\",\"type\",\"abstract\",\"Bio\"]].copy()\n",
    "\n",
    "presentations = pd.concat([df_papers, df_plenary,df_posters, df_keynotes,df_other]).rename(columns = {\"presenter_name\":\"presenter\",\"time\":\"presentation_time\"})\n",
    "presentations[\"link\"] = presentations[\"submission_id\"].apply(lambda x:\"https://www.dropbox.com/sh/owal32rbrou88do/AABZiK37QB8M_DcWEpGrCGUja?dl=0&preview=paper{}.pdf\".format(x) if not pd.isna(x) else x)\n"
   ]
  },
  {
   "cell_type": "code",
   "execution_count": 3,
   "id": "ca5d2dd2",
   "metadata": {},
   "outputs": [
    {
     "data": {
      "text/html": [
       "<div>\n",
       "<style scoped>\n",
       "    .dataframe tbody tr th:only-of-type {\n",
       "        vertical-align: middle;\n",
       "    }\n",
       "\n",
       "    .dataframe tbody tr th {\n",
       "        vertical-align: top;\n",
       "    }\n",
       "\n",
       "    .dataframe thead th {\n",
       "        text-align: right;\n",
       "    }\n",
       "</style>\n",
       "<table border=\"1\" class=\"dataframe\">\n",
       "  <thead>\n",
       "    <tr style=\"text-align: right;\">\n",
       "      <th></th>\n",
       "      <th>session_id</th>\n",
       "      <th>session_name</th>\n",
       "      <th>time</th>\n",
       "      <th>presenter_name</th>\n",
       "      <th>title</th>\n",
       "      <th>type</th>\n",
       "      <th>abstract</th>\n",
       "      <th>Bio</th>\n",
       "    </tr>\n",
       "  </thead>\n",
       "  <tbody>\n",
       "    <tr>\n",
       "      <th>0</th>\n",
       "      <td>LL1</td>\n",
       "      <td>Too Lazy to Read the Paper LIVESHOW EXTRAVAGAN...</td>\n",
       "      <td>13:00</td>\n",
       "      <td>Sune Lehmann</td>\n",
       "      <td>Too Lazy to Read the Paper LIVESHOW EXTRAVAGAN...</td>\n",
       "      <td>other</td>\n",
       "      <td>The five star rated (by Sune’s mom) science po...</td>\n",
       "      <td>NaN</td>\n",
       "    </tr>\n",
       "  </tbody>\n",
       "</table>\n",
       "</div>"
      ],
      "text/plain": [
       "  session_id                                       session_name   time  \\\n",
       "0        LL1  Too Lazy to Read the Paper LIVESHOW EXTRAVAGAN...  13:00   \n",
       "\n",
       "  presenter_name                                              title   type  \\\n",
       "0   Sune Lehmann  Too Lazy to Read the Paper LIVESHOW EXTRAVAGAN...  other   \n",
       "\n",
       "                                            abstract  Bio  \n",
       "0  The five star rated (by Sune’s mom) science po...  NaN  "
      ]
     },
     "execution_count": 3,
     "metadata": {},
     "output_type": "execute_result"
    }
   ],
   "source": [
    "df_other[df_other[\"session_id\"]==\"LL1\"]"
   ]
  },
  {
   "cell_type": "code",
   "execution_count": 4,
   "id": "5ee61b00",
   "metadata": {},
   "outputs": [],
   "source": [
    "presentations[\"presentation_time\"] = presentations[\"presentation_time\"].astype(str).fillna(\"\").apply(lambda x:x.replace('.',\":\").ljust(5,'0'))\n"
   ]
  },
  {
   "cell_type": "markdown",
   "id": "3a06d9a7",
   "metadata": {},
   "source": [
    "# Merge all data"
   ]
  },
  {
   "cell_type": "code",
   "execution_count": 5,
   "id": "9cd3615c",
   "metadata": {},
   "outputs": [],
   "source": [
    "sessions = pd.read_csv(\"./data_for_agenda - sessions.csv\").rename(columns = {\"location\":\"room\"})\n",
    "contributions = pd.read_pickle(\"/Users/lauale/Dropbox/Projects/openreview-py/IC2S2_stuff/data_for_programme2.pkl\")[[\"number\",\"keywords\",\"presenter\",\"title\",\"abstract\",\"authors\",\"id\"]]\n",
    "\n",
    "color_dict = {\"RA\": \"#7084AB\",\n",
    "             \n",
    "              \"OP\":\"#CB746D\",\n",
    "              \n",
    "              \"K\":\"#CB746D\",\n",
    "      \n",
    "              \"CB\":\"#7084AB\",\n",
    "              \"LU\":\"#7084AB\",\n",
    "              \"LL\":\"#7084AB\",\n",
    "              \"PT\":\"#CB746D\",\n",
    "              \"CL\":\"#7084AB\",\n",
    "              \"P\":\"#CB746D\",\n",
    "              \"A\":\"#ECF8F9\",\n",
    "              \"B\":\"#ECF8F9\",\n",
    "              \"C\":\"#ECF8F9\",\n",
    "              \"D\":\"#ECF8F9\",\n",
    "              \"E\":\"#ECF8F9\",\n",
    "              \"F\":\"#ECF8F9\",\n",
    "              \"G\":\"#ECF8F9\",\n",
    "              \"H\":\"#ECF8F9\",\n",
    "             }\n",
    "\n",
    "sessions[\"color\"] = sessions[\"session_id\"].apply(lambda x: color_dict[''.join([i for i in x.split(\"_\")[0] if not i.isdigit()])])\n",
    "\n"
   ]
  },
  {
   "cell_type": "code",
   "execution_count": 6,
   "id": "8db20350",
   "metadata": {},
   "outputs": [],
   "source": [
    "data = pd.merge(presentations, sessions, on = \"session_id\", how = \"outer\")\n",
    "data[\"time\"] = data[\"time_start\"] + \" - \"+data[\"time_end\"]\n",
    "data = pd.merge(data, contributions, how=\"left\", left_on = \"submission_id\", right_on = \"number\", suffixes=[\"\",\"_s\"])\n",
    "\n",
    "data[\"presenter\"] = data[\"presenter_s\"].fillna(data[\"presenter\"])\n",
    "data[\"title\"] = data[\"title_s\"].fillna(data[\"title\"])\n",
    "data = data.drop([\"presenter_s\",\"title_s\"],axis=1)\n",
    "data[\"authors\"] = data[\"authors\"].apply(lambda x: \", \".join(x) if type(x)==list else x)\n",
    "data[\"keywords\"] = data[\"keywords\"].apply(lambda x: \", \".join(x) if type(x)==list else x)\n",
    "data[\"start_time\"] = data[\"time_start\"]\n",
    "data[\"end_time\"] = data[\"time_end\"]"
   ]
  },
  {
   "cell_type": "code",
   "execution_count": 7,
   "id": "9cf17500",
   "metadata": {},
   "outputs": [],
   "source": [
    "data = data[[\"day\",\"authors\",\"session_title\",\"time\",\"title\",\"presenter\",\"room\",\"color\",\"start_time\",\"end_time\",\"type\",\"presentation_time\",\"session_id\",\"link\",\"abstract\",\"Bio\"]]\n",
    "data = data.rename(columns = {\"session_title\":\"session\"})"
   ]
  },
  {
   "cell_type": "code",
   "execution_count": 8,
   "id": "4b9454d5",
   "metadata": {},
   "outputs": [],
   "source": [
    "from difflib import SequenceMatcher\n",
    "\n",
    "\n",
    "def underline_presenter(x):\n",
    "    presenter = similarity(x[\"presenter\"], x[\"authors\"].split(\"|\"))\n",
    "    return \", \".join([i if not i==presenter else \"<u>{}</u>\".format(i) for i in x[\"authors\"].split(\"|\")])\n",
    "\n",
    "def similar(a, b):\n",
    "    return SequenceMatcher(None, a, b).ratio()\n",
    "\n",
    "def similarity(presenter, authors):\n",
    "\n",
    "    return max([(k, similar(presenter.lower(),k.lower())) for k in authors], key = lambda x:x[1])[0]\n",
    "\n",
    "\n",
    "data[\"authors\"] = data.fillna(\"\").apply(underline_presenter,axis=1)\n"
   ]
  },
  {
   "cell_type": "markdown",
   "id": "973110f6",
   "metadata": {},
   "source": [
    "#  New"
   ]
  },
  {
   "cell_type": "code",
   "execution_count": 9,
   "id": "8fb3caa3",
   "metadata": {},
   "outputs": [],
   "source": [
    "\n",
    "# Group the DataFrame by day and session\n",
    "grouped = data.fillna(\"\").groupby(['day', 'session_id'])\n",
    "\n",
    "# Create the agenda dictionary\n",
    "agenda = {\n",
    "    'days': []\n",
    "}\n",
    "\n",
    "# Iterate over each group and create the agenda structure\n",
    "for (day, session), group in grouped:\n",
    "    session_data = {\n",
    "        'title': group[\"session\"].values[0],\n",
    "        'time': group['time'].values[0],\n",
    "        \"start_time\":group['start_time'].values[0],\n",
    "        \"end_time\":group['end_time'].values[0],\n",
    "        'presentations': [],\n",
    "        \"room\":group[\"room\"].values[0],\n",
    "        \"color\":group[\"color\"].values[0],\n",
    "        \"type\":group[\"type\"].values[0],        \n",
    "        \"sessionId\":session\n",
    "    }\n",
    "\n",
    "    for _, row in group.iterrows():\n",
    "        presentation_data = {\n",
    "            'title': row['title'],\n",
    "            'presenter': row['presenter'], \n",
    "            \"presentation_time\":row[\"presentation_time\"],\n",
    "            \"link\":row[\"link\"],\n",
    "            \"authors\":row[\"authors\"],\n",
    "            \"bio\":row[\"Bio\"],\n",
    "            \"abstract\":row[\"abstract\"],\n",
    "        }\n",
    "        session_data['presentations'].append(presentation_data)\n",
    "\n",
    "    day_exists = False\n",
    "    for day_data in agenda['days']:\n",
    "        if day_data['day'] == day:\n",
    "            day_data['sessions'].append(session_data)\n",
    "            day_exists = True\n",
    "            break\n",
    "\n",
    "    if not day_exists:\n",
    "        day_data = {\n",
    "            'day': day,\n",
    "            'sessions': [session_data]\n",
    "        }\n",
    "        agenda['days'].append(day_data)\n",
    "\n",
    "# Convert the agenda dictionary to JSON\n",
    "agenda_json = json.dumps(agenda, indent=4)\n",
    "\n",
    "# Save the agenda JSON to a file\n",
    "with open('/Users/lauale/Desktop/website_v3/agenda2.json', 'w') as f:\n",
    "    f.write(agenda_json)"
   ]
  }
 ],
 "metadata": {
  "kernelspec": {
   "display_name": "Python 3 (ipykernel)",
   "language": "python",
   "name": "python3"
  },
  "language_info": {
   "codemirror_mode": {
    "name": "ipython",
    "version": 3
   },
   "file_extension": ".py",
   "mimetype": "text/x-python",
   "name": "python",
   "nbconvert_exporter": "python",
   "pygments_lexer": "ipython3",
   "version": "3.9.7"
  }
 },
 "nbformat": 4,
 "nbformat_minor": 5
}
