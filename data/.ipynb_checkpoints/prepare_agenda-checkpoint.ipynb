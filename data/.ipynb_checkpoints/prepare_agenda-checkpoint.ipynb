{
 "cells": [
  {
   "cell_type": "code",
   "execution_count": 1,
   "id": "187c5303",
   "metadata": {},
   "outputs": [],
   "source": [
    "import pandas as pd\n",
    "import json"
   ]
  },
  {
   "cell_type": "code",
   "execution_count": 2,
   "id": "611036f1",
   "metadata": {},
   "outputs": [
    {
     "ename": "KeyError",
     "evalue": "\"['Bio', 'Link'] not in index\"",
     "output_type": "error",
     "traceback": [
      "\u001b[0;31m---------------------------------------------------------------------------\u001b[0m",
      "\u001b[0;31mKeyError\u001b[0m                                  Traceback (most recent call last)",
      "\u001b[0;32m/var/folders/63/4p166hs50g3b807b74p8j46h0000gp/T/ipykernel_38890/2670945806.py\u001b[0m in \u001b[0;36m<module>\u001b[0;34m\u001b[0m\n\u001b[1;32m     30\u001b[0m \u001b[0mdf_posters\u001b[0m \u001b[0;34m=\u001b[0m \u001b[0mdf_posters\u001b[0m\u001b[0;34m[\u001b[0m\u001b[0;34m[\u001b[0m\u001b[0;34m\"session_id\"\u001b[0m\u001b[0;34m,\u001b[0m\u001b[0;34m\"session_name\"\u001b[0m\u001b[0;34m,\u001b[0m\u001b[0;34m\"authors\"\u001b[0m\u001b[0;34m,\u001b[0m\u001b[0;34m\"time\"\u001b[0m\u001b[0;34m,\u001b[0m\u001b[0;34m\"submission_id\"\u001b[0m\u001b[0;34m,\u001b[0m\u001b[0;34m\"presenter_name\"\u001b[0m\u001b[0;34m,\u001b[0m\u001b[0;34m\"title\"\u001b[0m\u001b[0;34m,\u001b[0m\u001b[0;34m\"type\"\u001b[0m\u001b[0;34m,\u001b[0m\u001b[0;34m\"poster_board_id\"\u001b[0m\u001b[0;34m]\u001b[0m\u001b[0;34m]\u001b[0m\u001b[0;34m.\u001b[0m\u001b[0mcopy\u001b[0m\u001b[0;34m(\u001b[0m\u001b[0;34m)\u001b[0m\u001b[0;34m\u001b[0m\u001b[0;34m\u001b[0m\u001b[0m\n\u001b[1;32m     31\u001b[0m \u001b[0mdf_keynotes\u001b[0m \u001b[0;34m=\u001b[0m \u001b[0mdf_keynotes\u001b[0m\u001b[0;34m[\u001b[0m\u001b[0;34m[\u001b[0m\u001b[0;34m\"session_id\"\u001b[0m\u001b[0;34m,\u001b[0m\u001b[0;34m\"session_name\"\u001b[0m\u001b[0;34m,\u001b[0m\u001b[0;34m\"time\"\u001b[0m\u001b[0;34m,\u001b[0m\u001b[0;34m\"presenter_name\"\u001b[0m\u001b[0;34m,\u001b[0m\u001b[0;34m\"title\"\u001b[0m\u001b[0;34m,\u001b[0m\u001b[0;34m\"type\"\u001b[0m\u001b[0;34m,\u001b[0m\u001b[0;34m\"abstract\"\u001b[0m\u001b[0;34m,\u001b[0m\u001b[0;34m\"Bio\"\u001b[0m\u001b[0;34m]\u001b[0m\u001b[0;34m]\u001b[0m\u001b[0;34m.\u001b[0m\u001b[0mcopy\u001b[0m\u001b[0;34m(\u001b[0m\u001b[0;34m)\u001b[0m\u001b[0;34m\u001b[0m\u001b[0;34m\u001b[0m\u001b[0m\n\u001b[0;32m---> 32\u001b[0;31m \u001b[0mdf_other\u001b[0m \u001b[0;34m=\u001b[0m \u001b[0mdf_other\u001b[0m\u001b[0;34m[\u001b[0m\u001b[0;34m[\u001b[0m\u001b[0;34m\"session_id\"\u001b[0m\u001b[0;34m,\u001b[0m\u001b[0;34m\"session_name\"\u001b[0m\u001b[0;34m,\u001b[0m\u001b[0;34m\"time\"\u001b[0m\u001b[0;34m,\u001b[0m\u001b[0;34m\"presenter_name\"\u001b[0m\u001b[0;34m,\u001b[0m\u001b[0;34m\"title\"\u001b[0m\u001b[0;34m,\u001b[0m\u001b[0;34m\"type\"\u001b[0m\u001b[0;34m,\u001b[0m\u001b[0;34m\"abstract\"\u001b[0m\u001b[0;34m,\u001b[0m\u001b[0;34m\"Bio\"\u001b[0m\u001b[0;34m,\u001b[0m\u001b[0;34m\"Link\"\u001b[0m\u001b[0;34m]\u001b[0m\u001b[0;34m]\u001b[0m\u001b[0;34m.\u001b[0m\u001b[0mcopy\u001b[0m\u001b[0;34m(\u001b[0m\u001b[0;34m)\u001b[0m\u001b[0;34m.\u001b[0m\u001b[0mrename\u001b[0m\u001b[0;34m(\u001b[0m\u001b[0mcolumns\u001b[0m \u001b[0;34m=\u001b[0m \u001b[0;34m{\u001b[0m\u001b[0;34m\"Link\"\u001b[0m\u001b[0;34m:\u001b[0m\u001b[0;34m\"link\"\u001b[0m\u001b[0;34m}\u001b[0m\u001b[0;34m)\u001b[0m\u001b[0;34m\u001b[0m\u001b[0;34m\u001b[0m\u001b[0m\n\u001b[0m\u001b[1;32m     33\u001b[0m \u001b[0mdf_tutorial\u001b[0m \u001b[0;34m=\u001b[0m \u001b[0mdf_tutorial\u001b[0m\u001b[0;34m[\u001b[0m\u001b[0;34m[\u001b[0m\u001b[0;34m\"session_id\"\u001b[0m\u001b[0;34m,\u001b[0m\u001b[0;34m\"presenter_name\"\u001b[0m\u001b[0;34m,\u001b[0m\u001b[0;34m\"time\"\u001b[0m\u001b[0;34m,\u001b[0m\u001b[0;34m\"title\"\u001b[0m\u001b[0;34m,\u001b[0m\u001b[0;34m\"type\"\u001b[0m\u001b[0;34m,\u001b[0m\u001b[0;34m\"url\"\u001b[0m\u001b[0;34m,\u001b[0m\u001b[0;34m\"description\"\u001b[0m\u001b[0;34m]\u001b[0m\u001b[0;34m]\u001b[0m\u001b[0;34m.\u001b[0m\u001b[0mcopy\u001b[0m\u001b[0;34m(\u001b[0m\u001b[0;34m)\u001b[0m\u001b[0;34m.\u001b[0m\u001b[0mrename\u001b[0m\u001b[0;34m(\u001b[0m\u001b[0mcolumns\u001b[0m \u001b[0;34m=\u001b[0m \u001b[0;34m{\u001b[0m\u001b[0;34m\"description\"\u001b[0m\u001b[0;34m:\u001b[0m\u001b[0;34m\"abstract\"\u001b[0m\u001b[0;34m,\u001b[0m\u001b[0;34m\"url\"\u001b[0m\u001b[0;34m:\u001b[0m\u001b[0;34m\"link\"\u001b[0m\u001b[0;34m}\u001b[0m\u001b[0;34m)\u001b[0m\u001b[0;34m\u001b[0m\u001b[0;34m\u001b[0m\u001b[0m\n\u001b[1;32m     34\u001b[0m \u001b[0;34m\u001b[0m\u001b[0m\n",
      "\u001b[0;32m~/opt/anaconda3/lib/python3.9/site-packages/pandas/core/frame.py\u001b[0m in \u001b[0;36m__getitem__\u001b[0;34m(self, key)\u001b[0m\n\u001b[1;32m   3462\u001b[0m             \u001b[0;32mif\u001b[0m \u001b[0mis_iterator\u001b[0m\u001b[0;34m(\u001b[0m\u001b[0mkey\u001b[0m\u001b[0;34m)\u001b[0m\u001b[0;34m:\u001b[0m\u001b[0;34m\u001b[0m\u001b[0;34m\u001b[0m\u001b[0m\n\u001b[1;32m   3463\u001b[0m                 \u001b[0mkey\u001b[0m \u001b[0;34m=\u001b[0m \u001b[0mlist\u001b[0m\u001b[0;34m(\u001b[0m\u001b[0mkey\u001b[0m\u001b[0;34m)\u001b[0m\u001b[0;34m\u001b[0m\u001b[0;34m\u001b[0m\u001b[0m\n\u001b[0;32m-> 3464\u001b[0;31m             \u001b[0mindexer\u001b[0m \u001b[0;34m=\u001b[0m \u001b[0mself\u001b[0m\u001b[0;34m.\u001b[0m\u001b[0mloc\u001b[0m\u001b[0;34m.\u001b[0m\u001b[0m_get_listlike_indexer\u001b[0m\u001b[0;34m(\u001b[0m\u001b[0mkey\u001b[0m\u001b[0;34m,\u001b[0m \u001b[0maxis\u001b[0m\u001b[0;34m=\u001b[0m\u001b[0;36m1\u001b[0m\u001b[0;34m)\u001b[0m\u001b[0;34m[\u001b[0m\u001b[0;36m1\u001b[0m\u001b[0;34m]\u001b[0m\u001b[0;34m\u001b[0m\u001b[0;34m\u001b[0m\u001b[0m\n\u001b[0m\u001b[1;32m   3465\u001b[0m \u001b[0;34m\u001b[0m\u001b[0m\n\u001b[1;32m   3466\u001b[0m         \u001b[0;31m# take() does not accept boolean indexers\u001b[0m\u001b[0;34m\u001b[0m\u001b[0;34m\u001b[0m\u001b[0m\n",
      "\u001b[0;32m~/opt/anaconda3/lib/python3.9/site-packages/pandas/core/indexing.py\u001b[0m in \u001b[0;36m_get_listlike_indexer\u001b[0;34m(self, key, axis)\u001b[0m\n\u001b[1;32m   1312\u001b[0m             \u001b[0mkeyarr\u001b[0m\u001b[0;34m,\u001b[0m \u001b[0mindexer\u001b[0m\u001b[0;34m,\u001b[0m \u001b[0mnew_indexer\u001b[0m \u001b[0;34m=\u001b[0m \u001b[0max\u001b[0m\u001b[0;34m.\u001b[0m\u001b[0m_reindex_non_unique\u001b[0m\u001b[0;34m(\u001b[0m\u001b[0mkeyarr\u001b[0m\u001b[0;34m)\u001b[0m\u001b[0;34m\u001b[0m\u001b[0;34m\u001b[0m\u001b[0m\n\u001b[1;32m   1313\u001b[0m \u001b[0;34m\u001b[0m\u001b[0m\n\u001b[0;32m-> 1314\u001b[0;31m         \u001b[0mself\u001b[0m\u001b[0;34m.\u001b[0m\u001b[0m_validate_read_indexer\u001b[0m\u001b[0;34m(\u001b[0m\u001b[0mkeyarr\u001b[0m\u001b[0;34m,\u001b[0m \u001b[0mindexer\u001b[0m\u001b[0;34m,\u001b[0m \u001b[0maxis\u001b[0m\u001b[0;34m)\u001b[0m\u001b[0;34m\u001b[0m\u001b[0;34m\u001b[0m\u001b[0m\n\u001b[0m\u001b[1;32m   1315\u001b[0m \u001b[0;34m\u001b[0m\u001b[0m\n\u001b[1;32m   1316\u001b[0m         if needs_i8_conversion(ax.dtype) or isinstance(\n",
      "\u001b[0;32m~/opt/anaconda3/lib/python3.9/site-packages/pandas/core/indexing.py\u001b[0m in \u001b[0;36m_validate_read_indexer\u001b[0;34m(self, key, indexer, axis)\u001b[0m\n\u001b[1;32m   1375\u001b[0m \u001b[0;34m\u001b[0m\u001b[0m\n\u001b[1;32m   1376\u001b[0m             \u001b[0mnot_found\u001b[0m \u001b[0;34m=\u001b[0m \u001b[0mlist\u001b[0m\u001b[0;34m(\u001b[0m\u001b[0mensure_index\u001b[0m\u001b[0;34m(\u001b[0m\u001b[0mkey\u001b[0m\u001b[0;34m)\u001b[0m\u001b[0;34m[\u001b[0m\u001b[0mmissing_mask\u001b[0m\u001b[0;34m.\u001b[0m\u001b[0mnonzero\u001b[0m\u001b[0;34m(\u001b[0m\u001b[0;34m)\u001b[0m\u001b[0;34m[\u001b[0m\u001b[0;36m0\u001b[0m\u001b[0;34m]\u001b[0m\u001b[0;34m]\u001b[0m\u001b[0;34m.\u001b[0m\u001b[0munique\u001b[0m\u001b[0;34m(\u001b[0m\u001b[0;34m)\u001b[0m\u001b[0;34m)\u001b[0m\u001b[0;34m\u001b[0m\u001b[0;34m\u001b[0m\u001b[0m\n\u001b[0;32m-> 1377\u001b[0;31m             \u001b[0;32mraise\u001b[0m \u001b[0mKeyError\u001b[0m\u001b[0;34m(\u001b[0m\u001b[0;34mf\"{not_found} not in index\"\u001b[0m\u001b[0;34m)\u001b[0m\u001b[0;34m\u001b[0m\u001b[0;34m\u001b[0m\u001b[0m\n\u001b[0m\u001b[1;32m   1378\u001b[0m \u001b[0;34m\u001b[0m\u001b[0m\n\u001b[1;32m   1379\u001b[0m \u001b[0;34m\u001b[0m\u001b[0m\n",
      "\u001b[0;31mKeyError\u001b[0m: \"['Bio', 'Link'] not in index\""
     ]
    }
   ],
   "source": [
    "df_papers = pd.read_csv(\"./df_papers_final.csv\")\n",
    "df_posters = pd.read_csv(\"./df_posters_final.csv\")\n",
    "df_plenary = pd.read_csv(\"./df_plenary_final.csv\")\n",
    "df_keynotes = pd.read_csv(\"./df_keynotes.csv\")\n",
    "df_tutorial = pd.read_csv(\"./df_tutorials.csv\")\n",
    "\n",
    "df_other = pd.read_csv(\"./df_other.csv\")\n",
    "\n",
    "\n",
    "df_posters[\"session_id\"] = df_posters[\"day\"].apply(lambda x:\"PT\"+str(x))\n",
    "df_posters[\"session_name\"] = df_posters[\"day\"].apply(lambda x:\"Poster session \"+str(x))\n",
    "df_plenary[\"time\"] = df_plenary[\"time\"].apply(lambda x:str(x).replace(\".\",\":\"))\n",
    "\n",
    "df_posters[\"room\"] = \"Atrium\"\n",
    "df_posters[\"time\"] = \"\"\n",
    "df_posters[\"type\"] = \"poster\"\n",
    "df_plenary[\"type\"] = \"plenary\"\n",
    "df_papers[\"type\"] = \"parallel\"\n",
    "df_keynotes[\"type\"] = \"keynote\"\n",
    "df_other[\"type\"] = \"other\"\n",
    "df_other.loc[df_other.session_id.apply(lambda x:x[:2])==\"SD\",\"type\"] = \"dinner\"\n",
    "\n",
    "\n",
    "df_tutorial[\"presenter_name\"] = df_tutorial[\"presenters\"].apply(lambda x: \", \".join(x.split(\"|\")))\n",
    "df_tutorial[\"type\"] = \"tutorial\"\n",
    "\n",
    "\n",
    "df_papers = df_papers[[\"session_id\",\"session_name\",\"authors\",\"time\",\"submission_id\",\"presenter_name\",\"title\",\"type\"]].copy()\n",
    "df_plenary = df_plenary[[\"session_id\",\"session_name\",\"authors\",\"time\",\"submission_id\",\"presenter_name\",\"title\",\"type\"]].copy()\n",
    "df_posters = df_posters[[\"session_id\",\"session_name\",\"authors\",\"time\",\"submission_id\",\"presenter_name\",\"title\",\"type\",\"poster_board_id\"]].copy()\n",
    "df_keynotes = df_keynotes[[\"session_id\",\"session_name\",\"time\",\"presenter_name\",\"title\",\"type\",\"abstract\",\"Bio\"]].copy()\n",
    "df_other = df_other[[\"session_id\",\"session_name\",\"time\",\"presenter_name\",\"title\",\"type\",\"abstract\",\"Bio\",\"Link\"]].copy().rename(columns = {\"Link\":\"link\"})\n",
    "df_tutorial = df_tutorial[[\"session_id\",\"presenter_name\",\"time\",\"title\",\"type\",\"url\",\"description\"]].copy().rename(columns = {\"description\":\"abstract\",\"url\":\"link\"})\n",
    "\n",
    "presentations = pd.concat([df_papers, df_plenary,df_posters, df_keynotes,df_other, df_tutorial]).rename(columns = {\"presenter_name\":\"presenter\",\"time\":\"presentation_time\"})\n",
    "presentations.loc[~presentations[\"type\"].isin([\"tutorial\",\"dinner\"]),\"link\"] = presentations.loc[~presentations[\"type\"].isin([\"tutorial\",\"dinner\"]),\"submission_id\"].apply(lambda x:\"https://laura.alessandretti.com/public/pdf_accepted/paper{}.pdf\".format(int(x)) if not pd.isna(x) else x)"
   ]
  },
  {
   "cell_type": "code",
   "execution_count": null,
   "id": "5ee61b00",
   "metadata": {},
   "outputs": [],
   "source": [
    "def f(x):\n",
    "    if x:\n",
    "        return x.split(\":\")[0]+\":\"+x.split(\":\")[1].ljust(2,'0')\n",
    "    else:\n",
    "        return x\n",
    "presentations[\"presentation_time\"] = presentations[\"presentation_time\"].astype(str).fillna(\"\").apply(lambda x:f(x.replace('.',\":\")))"
   ]
  },
  {
   "cell_type": "code",
   "execution_count": null,
   "id": "24be4258",
   "metadata": {},
   "outputs": [],
   "source": [
    "streams = presentations[presentations.session_id.apply(lambda x:x[:2]).isin([\"P1\",\"P2\",\"K1\",\"K2\",\"K3\",\"K4\",\"K5\",\"K6\",\"K7\",\"K8\",\"K9\",\"K10\"])].copy()\n",
    "streams[\"session_id\"] = streams[\"session_id\"].apply(lambda x:x+\"_S\")\n",
    "streams[\"session_name\"] = \"STREAMING:\"+streams[\"session_name\"]\n",
    "presentations = pd.concat([presentations,streams])\n",
    "presentations[\"session_name\"] = presentations[\"session_name\"].apply(lambda x: x.replace(\"STREAMING:\",\"STREAMING:<br>\") if not pd.isna(x) else x)"
   ]
  },
  {
   "cell_type": "markdown",
   "id": "3a06d9a7",
   "metadata": {},
   "source": [
    "# Merge all data"
   ]
  },
  {
   "cell_type": "code",
   "execution_count": null,
   "id": "9cd3615c",
   "metadata": {},
   "outputs": [],
   "source": [
    "sessions = pd.read_csv(\"./data_for_agenda - sessions.csv\").rename(columns = {\"location\":\"room\"})\n",
    "sessions[\"session_title\"] = sessions[\"session_title\"].apply(lambda x: x.replace(\"STREAMING:\",\"STREAMING:\\n\") if not pd.isna(x) else x)\n",
    "contributions = pd.read_pickle(\"/Users/lauale/Dropbox/Projects/openreview-py/IC2S2_stuff/data_for_programme2.pkl\")[[\"number\",\"keywords\",\"presenter\",\"title\",\"abstract\",\"authors\",\"id\"]]\n",
    "\n",
    "color_dict = {\"RA\": \"#7084AB\",\n",
    "              \"T\":\"#ECF8F9\",\n",
    "              \"OP\":\"#CB746D\",\n",
    "              \"CL\":\"#CB746D\",\n",
    "              \"K\":\"#CB746D\",\n",
    "              \"CB\":\"#7084AB\",\n",
    "              \"LU\":\"#7084AB\",\n",
    "              \"LL\":\"#7084AB\",\n",
    "              \"PT\":\"#CB746D\",\n",
    "              \"P\":\"#CB746D\",\n",
    "              \"A\":\"#ECF8F9\",\n",
    "              \"B\":\"#ECF8F9\",\n",
    "              \"C\":\"#ECF8F9\",\n",
    "              \"D\":\"#ECF8F9\",\n",
    "              \"E\":\"#ECF8F9\",\n",
    "              \"F\":\"#ECF8F9\",\n",
    "              \"G\":\"#ECF8F9\",\n",
    "              \"H\":\"#ECF8F9\",\n",
    "              \"SD\":\"#7084AB\"\n",
    "             }\n",
    "\n",
    "sessions[\"color\"] = sessions[\"session_id\"].apply(lambda x: color_dict[''.join([i for i in x.split(\"_\")[0] if not i.isdigit()])])\n",
    "\n"
   ]
  },
  {
   "cell_type": "code",
   "execution_count": null,
   "id": "8db20350",
   "metadata": {},
   "outputs": [],
   "source": [
    "data = pd.merge(presentations, sessions, on = \"session_id\", how = \"outer\")\n",
    "data[\"time\"] = data[\"time_start\"] + \" - \"+data[\"time_end\"]\n",
    "data = pd.merge(data, contributions, how=\"left\", left_on = \"submission_id\", right_on = \"number\", suffixes=[\"\",\"_s\"])\n",
    "\n",
    "data[\"presenter\"] = data[\"presenter_s\"].fillna(data[\"presenter\"])\n",
    "data[\"title\"] = data[\"title_s\"].fillna(data[\"title\"])\n",
    "data = data.drop([\"presenter_s\",\"title_s\"],axis=1)\n",
    "data[\"authors\"] = data[\"authors\"].apply(lambda x: \", \".join(x) if type(x)==list else x)\n",
    "data[\"keywords\"] = data[\"keywords\"].apply(lambda x: \", \".join(x) if type(x)==list else x)\n",
    "data[\"start_time\"] = data[\"time_start\"]\n",
    "data[\"end_time\"] = data[\"time_end\"]"
   ]
  },
  {
   "cell_type": "code",
   "execution_count": null,
   "id": "9cf17500",
   "metadata": {},
   "outputs": [],
   "source": [
    "data = data[[\"day\",\"authors\",\"session_title\",\"time\",\"title\",\"presenter\",\"room\",\"color\",\"start_time\",\"end_time\",\"type\",\"presentation_time\",\"session_id\",\"link\",\"abstract\",\"Bio\",\"poster_board_id\",\"session_chair\"]]\n",
    "data = data.rename(columns = {\"session_title\":\"session\"})\n",
    "data.loc[data.session_id==\"CL\",\"session\"] = \"Awards and closing\"\n",
    "data.loc[data.session_id==\"CL_S\",\"session\"] = \"STREAMING: Awards and closing\""
   ]
  },
  {
   "cell_type": "code",
   "execution_count": null,
   "id": "4b9454d5",
   "metadata": {},
   "outputs": [],
   "source": [
    "from difflib import SequenceMatcher\n",
    "\n",
    "\n",
    "def underline_presenter(x):\n",
    "    presenter = similarity(x[\"presenter\"], x[\"authors\"].split(\"|\"))\n",
    "    return \", \".join([i if not i==presenter else \"<u>{}</u>\".format(i) for i in x[\"authors\"].split(\"|\")])\n",
    "\n",
    "def similar(a, b):\n",
    "    return SequenceMatcher(None, a, b).ratio()\n",
    "\n",
    "def similarity(presenter, authors):\n",
    "\n",
    "    return max([(k, similar(presenter.lower(),k.lower())) for k in authors], key = lambda x:x[1])[0]\n",
    "\n",
    "\n",
    "data[\"authors\"] = data.fillna(\"\").apply(underline_presenter,axis=1)\n"
   ]
  },
  {
   "cell_type": "markdown",
   "id": "973110f6",
   "metadata": {},
   "source": [
    "#  New"
   ]
  },
  {
   "cell_type": "code",
   "execution_count": null,
   "id": "0c29e841",
   "metadata": {},
   "outputs": [],
   "source": [
    "\n",
    "# Group the DataFrame by day and session\n",
    "grouped = data.fillna(\"\").groupby(['day', 'session_id'])\n",
    "\n",
    "# Create the agenda dictionary\n",
    "agenda = {\n",
    "    'days': []\n",
    "}\n",
    "\n",
    "# Iterate over each group and create the agenda structure\n",
    "for (day, session), group in grouped:\n",
    "    session_data = {\n",
    "        'title': group[\"session\"].values[0],\n",
    "        'time': group['time'].values[0],\n",
    "        \"start_time\":group['start_time'].values[0],\n",
    "        \"end_time\":group['end_time'].values[0],\n",
    "        'presentations': [],\n",
    "        \"room\":group[\"room\"].values[0],\n",
    "        \"color\":group[\"color\"].values[0],\n",
    "        \"type\":group[\"type\"].values[0],        \n",
    "        \"sessionId\":session,\n",
    "        \"session_chair\":group[\"session_chair\"].values[0],\n",
    "        \"sponsor\":group[\"sponsor\"].values[0]\n",
    "    }\n",
    "\n",
    "    for _, row in group.iterrows():\n",
    "        presentation_data = {\n",
    "            'title': row['title'],\n",
    "            'presenter': row['presenter'], \n",
    "            \"presentation_time\":row[\"presentation_time\"],\n",
    "            \"link\":row[\"link\"],\n",
    "            \"authors\":row[\"authors\"],\n",
    "            \"bio\":row[\"Bio\"],\n",
    "            \"abstract\":row[\"abstract\"],\n",
    "            \"poster_board_id\":row[\"poster_board_id\"],\n",
    "        }\n",
    "        session_data['presentations'].append(presentation_data)\n",
    "\n",
    "    day_exists = False\n",
    "    for day_data in agenda['days']:\n",
    "        if day_data['day'] == day:\n",
    "            day_data['sessions'].append(session_data)\n",
    "            day_exists = True\n",
    "            break\n",
    "\n",
    "    if not day_exists:\n",
    "        day_data = {\n",
    "            'day': day,\n",
    "            'sessions': [session_data]\n",
    "        }\n",
    "        agenda['days'].append(day_data)\n",
    "\n",
    "# Convert the agenda dictionary to JSON\n",
    "agenda_json = json.dumps(agenda, indent=4)\n",
    "\n",
    "# Save the agenda JSON to a file\n",
    "with open('/Users/lauale/Desktop/website_v3/agenda2.json', 'w') as f:\n",
    "    f.write(agenda_json)"
   ]
  }
 ],
 "metadata": {
  "kernelspec": {
   "display_name": "Python 3 (ipykernel)",
   "language": "python",
   "name": "python3"
  },
  "language_info": {
   "codemirror_mode": {
    "name": "ipython",
    "version": 3
   },
   "file_extension": ".py",
   "mimetype": "text/x-python",
   "name": "python",
   "nbconvert_exporter": "python",
   "pygments_lexer": "ipython3",
   "version": "3.9.7"
  }
 },
 "nbformat": 4,
 "nbformat_minor": 5
}
